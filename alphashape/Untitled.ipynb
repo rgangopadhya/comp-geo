{
 "cells": [
  {
   "cell_type": "code",
   "execution_count": 4,
   "id": "fd3e6b36-bb50-4a2b-9940-a6214df6fce4",
   "metadata": {},
   "outputs": [],
   "source": [
    "import csv\n",
    "with open(\"best_results.csv\") as fp:\n",
    "    reader = csv.reader(fp)\n",
    "    best_results = []\n",
    "    for i, row in enumerate(reader):\n",
    "        if i == 0:\n",
    "            continue\n",
    "        best_results.append(map(float, row))\n",
    "        \n",
    "reachable = [(lng, lat) for lat, lng, travel_time in best_results if travel_time <= 180.0 * 60.0]"
   ]
  },
  {
   "cell_type": "code",
   "execution_count": 5,
   "id": "d09d8aea-00ee-40f6-ab93-6176fc8d9881",
   "metadata": {},
   "outputs": [],
   "source": [
    "from collections import defaultdict\n",
    "\n",
    "import numpy as np\n",
    "from scipy.spatial import Delaunay\n",
    "from shapely.geometry import mapping, MultiLineString, MultiPoint, Point, Polygon\n",
    "from shapely.ops import polygonize, unary_union"
   ]
  },
  {
   "cell_type": "code",
   "execution_count": 6,
   "id": "8e1ddea0-589c-4f67-846a-3016a6a18824",
   "metadata": {},
   "outputs": [],
   "source": [
    "coords = np.array(reachable)\n",
    "tri = Delaunay(coords)"
   ]
  },
  {
   "cell_type": "code",
   "execution_count": 7,
   "id": "5dfc1b5f-0f54-4f1a-be5f-acc96421ac22",
   "metadata": {},
   "outputs": [],
   "source": [
    "simplices = tri.simplices  # pylint: disable=no-member"
   ]
  },
  {
   "cell_type": "code",
   "execution_count": 8,
   "id": "0cc3d5a3-8ff1-498d-855b-f844c9c1ce4e",
   "metadata": {},
   "outputs": [],
   "source": [
    "tri_coords = coords[simplices]"
   ]
  },
  {
   "cell_type": "code",
   "execution_count": 9,
   "id": "1b57da7b-e518-48b6-a53b-b7873c838996",
   "metadata": {},
   "outputs": [
    {
     "data": {
      "text/plain": [
       "array([[[-85.8827506 ,  38.302869  ],\n",
       "        [-85.87881362,  38.32617253],\n",
       "        [-85.94176033,  38.00180457]],\n",
       "\n",
       "       [[-85.8787968 ,  38.28559369],\n",
       "        [-85.8827506 ,  38.302869  ],\n",
       "        [-85.8994469 ,  38.1696455 ]],\n",
       "\n",
       "       [[-85.74493539,  37.9654092 ],\n",
       "        [-85.8982444 ,  38.0093875 ],\n",
       "        [-85.9038693 ,  38.0079034 ]],\n",
       "\n",
       "       ...,\n",
       "\n",
       "       [[-85.7142716 ,  38.2572575 ],\n",
       "        [-85.7142798 ,  38.2572433 ],\n",
       "        [-85.7142365 ,  38.2572271 ]],\n",
       "\n",
       "       [[-85.7062327 ,  38.2535349 ],\n",
       "        [-85.7060656 ,  38.2533343 ],\n",
       "        [-85.7060662 ,  38.253345  ]],\n",
       "\n",
       "       [[-85.7060656 ,  38.2533343 ],\n",
       "        [-85.7062327 ,  38.2535349 ],\n",
       "        [-85.7062084 ,  38.2531314 ]]])"
      ]
     },
     "execution_count": 9,
     "metadata": {},
     "output_type": "execute_result"
    }
   ],
   "source": [
    "tri_coords"
   ]
  },
  {
   "cell_type": "code",
   "execution_count": 12,
   "id": "a722535e-7d5a-4e98-9491-8ba9d8ee29c4",
   "metadata": {},
   "outputs": [],
   "source": [
    "tri_coords.shape\n",
    "alpha = 300\n",
    "inv_alpha = 1.0 / alpha"
   ]
  },
  {
   "cell_type": "code",
   "execution_count": 13,
   "id": "2fd21175-efc5-4900-b9fe-41f4ca38f2f7",
   "metadata": {},
   "outputs": [],
   "source": [
    "# Lengths of sides of triangle\n",
    "a = np.sqrt(\n",
    "    np.sum(np.square(tri_coords[:, 0, :] - tri_coords[:, 1, :]), 1))\n",
    "b = np.sqrt(\n",
    "    np.sum(np.square(tri_coords[:, 1, :] - tri_coords[:, 2, :]), 1))\n",
    "c = np.sqrt(\n",
    "    np.sum(np.square(tri_coords[:, 2, :] - tri_coords[:, 0, :]), 1))\n",
    "# Semiperimeter of triangle\n",
    "s = (a + b + c) * 0.5\n",
    "# Area of triangle by Heron's formula\n",
    "area = s * (s - a) * (s - b) * (s - c)\n",
    "circumradius = a * b * c / (4.0 * np.sqrt(area))\n",
    "# Filter based on the circumradius value compared with the alpha value:\n",
    "# 1. circumradius is less than inv_alpha -> triangle is included in shape\n",
    "# 2. circumradius is finite and >= inv_alpha -> triangle should not be included in shape\n",
    "# 3. circumradius is NaN or infinite -> ignore (Due to how we handle holes below, it's\n",
    "#    simpler to just skip these triangles altogether.)\n",
    "included_triangles = circumradius < inv_alpha\n",
    "hole_triangles = np.all(\n",
    "    [np.isfinite(circumradius), circumradius >= inv_alpha], 0)"
   ]
  },
  {
   "cell_type": "code",
   "execution_count": 14,
   "id": "17bdbe37-ee2a-470a-a218-42d56ef31112",
   "metadata": {},
   "outputs": [],
   "source": [
    "internal_faces_count = defaultdict(int)\n",
    "for ia, ib, ic in simplices[included_triangles]:\n",
    "    for i, j in [(ia, ib), (ib, ic), (ic, ia)]:\n",
    "        ordered_indices = (i, j) if i < j else (j, i)\n",
    "        internal_faces_count[ordered_indices] += 1"
   ]
  },
  {
   "cell_type": "code",
   "execution_count": 17,
   "id": "2c6e0402-74ba-475c-adc7-80e43a1dc2ec",
   "metadata": {},
   "outputs": [
    {
     "data": {
      "text/plain": [
       "array([[ 11383, 122589, 122387],\n",
       "       [ 11383,  13041, 122589],\n",
       "       [122470,  11383, 122387],\n",
       "       ...,\n",
       "       [ 75558,  75884,  82978],\n",
       "       [113855,  83283,  96582],\n",
       "       [ 83283, 113855,  78227]], dtype=int32)"
      ]
     },
     "execution_count": 17,
     "metadata": {},
     "output_type": "execute_result"
    }
   ],
   "source": [
    "simplices[included_triangles]"
   ]
  },
  {
   "cell_type": "code",
   "execution_count": 18,
   "id": "d9841c30-b5ea-44a1-b2a3-4f4f82fb55cf",
   "metadata": {},
   "outputs": [
    {
     "data": {
      "text/plain": [
       "(125332, 2)"
      ]
     },
     "execution_count": 18,
     "metadata": {},
     "output_type": "execute_result"
    }
   ],
   "source": [
    "coords.shape"
   ]
  },
  {
   "cell_type": "code",
   "execution_count": 19,
   "id": "3c031991-9bde-4c41-a4d7-876e2edc6d57",
   "metadata": {},
   "outputs": [
    {
     "data": {
      "text/plain": [
       "array([[-85.864426 ,  38.281571 ],\n",
       "       [-85.8698606,  38.2836724],\n",
       "       [-85.8087205,  38.2952647],\n",
       "       [-85.8083695,  38.294866 ],\n",
       "       [-85.8191283,  38.3436285],\n",
       "       [-85.8190999,  38.3437967],\n",
       "       [-85.8144372,  38.3404756],\n",
       "       [-85.8140188,  38.3398879],\n",
       "       [-85.8206762,  38.3404473],\n",
       "       [-85.820755 ,  38.3403844]])"
      ]
     },
     "execution_count": 19,
     "metadata": {},
     "output_type": "execute_result"
    }
   ],
   "source": [
    "coords[:10]"
   ]
  },
  {
   "cell_type": "code",
   "execution_count": 20,
   "id": "ed7f8303-f2a8-4b52-9933-f2c7bbf4751a",
   "metadata": {},
   "outputs": [
    {
     "data": {
      "text/plain": [
       "array([-85.864426,  38.281571])"
      ]
     },
     "execution_count": 20,
     "metadata": {},
     "output_type": "execute_result"
    }
   ],
   "source": [
    "coords[0]"
   ]
  },
  {
   "cell_type": "code",
   "execution_count": 23,
   "id": "235121ea-c14a-4067-978f-08a0badddf90",
   "metadata": {},
   "outputs": [
    {
     "data": {
      "text/plain": [
       "array([[  7692, 122260, 122660],\n",
       "       [122237,   7692,  25838],\n",
       "       [125198,  20027,  15986],\n",
       "       ...,\n",
       "       [ 75558,  75884,  82978],\n",
       "       [113855,  83283,  96582],\n",
       "       [ 83283, 113855,  78227]], dtype=int32)"
      ]
     },
     "execution_count": 23,
     "metadata": {},
     "output_type": "execute_result"
    }
   ],
   "source": [
    "simplices"
   ]
  },
  {
   "cell_type": "code",
   "execution_count": 24,
   "id": "e5a9e05d-e1d3-47d6-92b2-dbc8b864a51d",
   "metadata": {},
   "outputs": [
    {
     "data": {
      "text/plain": [
       "array([[-85.8087205,  38.2952647],\n",
       "       [-85.8083695,  38.294866 ]])"
      ]
     },
     "execution_count": 24,
     "metadata": {},
     "output_type": "execute_result"
    }
   ],
   "source": [
    "coords[[2, 3]]"
   ]
  },
  {
   "cell_type": "code",
   "execution_count": 25,
   "id": "e4109de9-698e-4011-bb11-22019ae4b7a3",
   "metadata": {},
   "outputs": [
    {
     "data": {
      "text/plain": [
       "array([-85.8087205,  38.2952647])"
      ]
     },
     "execution_count": 25,
     "metadata": {},
     "output_type": "execute_result"
    }
   ],
   "source": [
    "coords[2]"
   ]
  },
  {
   "cell_type": "code",
   "execution_count": 26,
   "id": "4e98f699-b479-4581-983a-da303b24df37",
   "metadata": {},
   "outputs": [
    {
     "data": {
      "text/plain": [
       "array([-85.8083695,  38.294866 ])"
      ]
     },
     "execution_count": 26,
     "metadata": {},
     "output_type": "execute_result"
    }
   ],
   "source": [
    "coords[3]"
   ]
  },
  {
   "cell_type": "code",
   "execution_count": null,
   "id": "4452132e-4988-4ed1-bc25-218a24b42ba9",
   "metadata": {},
   "outputs": [],
   "source": []
  }
 ],
 "metadata": {
  "kernelspec": {
   "display_name": "Python 3 (ipykernel)",
   "language": "python",
   "name": "python3"
  },
  "language_info": {
   "codemirror_mode": {
    "name": "ipython",
    "version": 3
   },
   "file_extension": ".py",
   "mimetype": "text/x-python",
   "name": "python",
   "nbconvert_exporter": "python",
   "pygments_lexer": "ipython3",
   "version": "3.9.10"
  }
 },
 "nbformat": 4,
 "nbformat_minor": 5
}
