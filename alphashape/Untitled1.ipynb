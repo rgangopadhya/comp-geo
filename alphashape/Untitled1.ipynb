{
 "cells": [
  {
   "cell_type": "code",
   "execution_count": 1,
   "id": "a183c474-3475-4df4-a8e3-191b1e04a0b3",
   "metadata": {},
   "outputs": [
    {
     "name": "stdout",
     "output_type": "stream",
     "text": [
      "0.29.28\n"
     ]
    }
   ],
   "source": [
    "%load_ext cython\n",
    "import Cython\n",
    "print(Cython.__version__)"
   ]
  },
  {
   "cell_type": "code",
   "execution_count": 3,
   "id": "308c2ac5-d1d0-40d2-8c58-08ace159330f",
   "metadata": {},
   "outputs": [
    {
     "name": "stderr",
     "output_type": "stream",
     "text": [
      "warning: /home/raja/.cache/ipython/cython/_cython_magic_ae118dc949911a27c5f1f276f26cd3b2.pyx:41:8: local variable 'p_concave_points_c' referenced before assignment\n",
      "warning: /home/raja/.cache/ipython/cython/_cython_magic_ae118dc949911a27c5f1f276f26cd3b2.pyx:42:8: local variable 'p_num_concave_points' referenced before assignment\n",
      "warning: /home/raja/.cache/ipython/cython/_cython_magic_ae118dc949911a27c5f1f276f26cd3b2.pyx:43:8: local variable 'p_free' referenced before assignment\n",
      "warning: /home/raja/.cache/ipython/cython/_cython_magic_ae118dc949911a27c5f1f276f26cd3b2.pyx:46:25: local variable 'p_num_concave_points' referenced before assignment\n",
      "warning: /home/raja/.cache/ipython/cython/_cython_magic_ae118dc949911a27c5f1f276f26cd3b2.pyx:47:23: local variable 'p_concave_points_c' referenced before assignment\n",
      "warning: /home/raja/.cache/ipython/cython/_cython_magic_ae118dc949911a27c5f1f276f26cd3b2.pyx:57:4: local variable 'p_free' referenced before assignment\n",
      "\n",
      "Error compiling Cython file:\n",
      "------------------------------------------------------------\n",
      "...\n",
      "    cdef void(**p_free)(void*)\n",
      "\n",
      "    # points_c = _ffi.cast('double*', points.ctypes.data)\n",
      "    # hull_c = _ffi.cast('int*', hull.ctypes.data)\n",
      "    pyconcaveman2d(\n",
      "        points,\n",
      "       ^\n",
      "------------------------------------------------------------\n",
      "\n",
      "/home/raja/.cache/ipython/cython/_cython_magic_ae118dc949911a27c5f1f276f26cd3b2.pyx:35:8: Cannot convert Python object to 'double *'\n",
      "\n",
      "Error compiling Cython file:\n",
      "------------------------------------------------------------\n",
      "...\n",
      "    # points_c = _ffi.cast('double*', points.ctypes.data)\n",
      "    # hull_c = _ffi.cast('int*', hull.ctypes.data)\n",
      "    pyconcaveman2d(\n",
      "        points,\n",
      "        len(points),\n",
      "        hull,\n",
      "       ^\n",
      "------------------------------------------------------------\n",
      "\n",
      "/home/raja/.cache/ipython/cython/_cython_magic_ae118dc949911a27c5f1f276f26cd3b2.pyx:37:8: Cannot convert Python object to 'int *'\n",
      "\n",
      "Error compiling Cython file:\n",
      "------------------------------------------------------------\n",
      "...\n",
      "    num_concave_points = p_num_concave_points[0]\n",
      "    concave_points_c = p_concave_points_c[0]\n",
      "\n",
      "    # buffer = _ffi.buffer(concave_points_c, 8 * 2 * num_concave_points)\n",
      "\n",
      "    concave_points = np.frombuffer(concave_points_c, dtype=np.double)\n",
      "                                  ^\n",
      "------------------------------------------------------------\n",
      "\n",
      "/home/raja/.cache/ipython/cython/_cython_magic_ae118dc949911a27c5f1f276f26cd3b2.pyx:51:35: Cannot convert 'double *' to Python object\n"
     ]
    }
   ],
   "source": [
    "%%cython -a\n",
    "# distutils: language = c++\n",
    "import numpy as np\n",
    "\n",
    "cdef extern from \"concaveman.cpp\":\n",
    "    void pyconcaveman2d(double *points_c, size_t num_points, int * hull_points_c, size_t num_hull_points, double concavity, double lengthThreshold, double **concave_points_c, size_t *num_concave_points, void(**p_free)(void*))\n",
    "\n",
    "\n",
    "cdef extern from \"concaveman.h\":\n",
    "    pass\n",
    "\n",
    "\n",
    "def concaveman2d(points, hull, concavity=2.0, lengthThreshold=0.0):\n",
    "    points = np.array(points).astype(np.double)\n",
    "    hull = np.array(hull).astype(np.int32)\n",
    "\n",
    "    if len(points.shape) != 2:\n",
    "        raise ValueError('points must be a 2-D array')\n",
    "\n",
    "    if len(hull.shape) != 1:\n",
    "        raise ValueError('hull must be a 1-D array')\n",
    "\n",
    "    if np.any(hull >= len(points)) or np.any(hull < 0):\n",
    "        raise ValueError('hull indices out of bounds')\n",
    "\n",
    "    # p_concave_points_c = _ffi.new('double**')\n",
    "    # p_num_concave_points = _ffi.new('size_t*')\n",
    "    # p_free = _ffi.new('void(**)(void*)')\n",
    "    cdef double** p_concave_points_c\n",
    "    cdef size_t *p_num_concave_points\n",
    "    cdef void(**p_free)(void*)\n",
    "\n",
    "    # points_c = _ffi.cast('double*', points.ctypes.data)\n",
    "    # hull_c = _ffi.cast('int*', hull.ctypes.data)\n",
    "    pyconcaveman2d(\n",
    "        points,\n",
    "        len(points),\n",
    "        hull,\n",
    "        len(hull),\n",
    "        concavity,\n",
    "        lengthThreshold,\n",
    "        p_concave_points_c,\n",
    "        p_num_concave_points,\n",
    "        p_free,\n",
    "    )\n",
    "\n",
    "    num_concave_points = p_num_concave_points[0]\n",
    "    concave_points_c = p_concave_points_c[0]\n",
    "\n",
    "    # buffer = _ffi.buffer(concave_points_c, 8 * 2 * num_concave_points)\n",
    "\n",
    "    concave_points = np.frombuffer(concave_points_c, dtype=np.double)\n",
    "    concave_points = concave_points.reshape((num_concave_points, 2))\n",
    "    concave_points = concave_points.copy()\n",
    "\n",
    "    print('concave_points:', concave_points)\n",
    "\n",
    "    p_free[0](concave_points_c)\n",
    "\n",
    "    return concave_points"
   ]
  },
  {
   "cell_type": "code",
   "execution_count": null,
   "id": "740436b7-f478-4461-83c8-a058eb469494",
   "metadata": {},
   "outputs": [],
   "source": []
  },
  {
   "cell_type": "code",
   "execution_count": null,
   "id": "cbc5627d-dc2a-4293-a923-da4e02a3fb5d",
   "metadata": {},
   "outputs": [],
   "source": []
  }
 ],
 "metadata": {
  "kernelspec": {
   "display_name": "Python 3 (ipykernel)",
   "language": "python",
   "name": "python3"
  },
  "language_info": {
   "codemirror_mode": {
    "name": "ipython",
    "version": 3
   },
   "file_extension": ".py",
   "mimetype": "text/x-python",
   "name": "python",
   "nbconvert_exporter": "python",
   "pygments_lexer": "ipython3",
   "version": "3.9.10"
  }
 },
 "nbformat": 4,
 "nbformat_minor": 5
}
